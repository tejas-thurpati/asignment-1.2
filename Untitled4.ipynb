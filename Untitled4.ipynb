{
  "nbformat": 4,
  "nbformat_minor": 0,
  "metadata": {
    "colab": {
      "provenance": [],
      "authorship_tag": "ABX9TyNjtX0GJrC23efgsiqKemPK",
      "include_colab_link": true
    },
    "kernelspec": {
      "name": "python3",
      "display_name": "Python 3"
    },
    "language_info": {
      "name": "python"
    }
  },
  "cells": [
    {
      "cell_type": "markdown",
      "metadata": {
        "id": "view-in-github",
        "colab_type": "text"
      },
      "source": [
        "<a href=\"https://colab.research.google.com/github/tejas-thurpati/asignment-1.2/blob/main/Untitled4.ipynb\" target=\"_parent\"><img src=\"https://colab.research.google.com/assets/colab-badge.svg\" alt=\"Open In Colab\"/></a>"
      ]
    },
    {
      "cell_type": "markdown",
      "source": [],
      "metadata": {
        "id": "8IgokERSSqPM"
      }
    },
    {
      "cell_type": "markdown",
      "source": [
        "Task Description #1:\n",
        "• Start a Python class named Student with attributes name, roll_number, and marks. Prompt GitHub Copilot to complete methods for displaying details and checking if marks are above\n",
        "average."
      ],
      "metadata": {
        "id": "r2s7Cf8Ih3te"
      }
    },
    {
      "cell_type": "code",
      "source": [
        "class student:\n",
        "  def __init__(self,name,roll_number,marks):\n",
        "    self.name=name\n",
        "    self.roll_number=roll_number\n",
        "    self.marks=marks\n",
        "\n",
        "    #methods to display student details\n",
        "  def display_details(self):\n",
        "    print(\"Name:\",self.name)\n",
        "    print(\"Roll Number:\",self.roll_number)\n",
        "    print(\"Marks:\",self.marks)\n",
        "\n",
        "    #method to check if students passed(marks>=40)\n",
        "  def check_pass_fail(self):\n",
        "    if self.marks>=40:\n",
        "      print(\"Pass\")\n",
        "    else:\n",
        "      print(\"Fail\")\n",
        "\n",
        "s1 = student(\"aish\",101,85)\n",
        "s2 = student(\"sai\",102,35)\n",
        "s1.display_details()\n",
        "s1.check_pass_fail()\n",
        "s2.display_details()\n",
        "s2.check_pass_fail()"
      ],
      "metadata": {
        "colab": {
          "base_uri": "https://localhost:8080/"
        },
        "id": "R7SuMSGnSrkk",
        "outputId": "34e8cfae-0bac-42b7-a6d8-57eaf663c611"
      },
      "execution_count": 5,
      "outputs": [
        {
          "output_type": "stream",
          "name": "stdout",
          "text": [
            "Name: aish\n",
            "Roll Number: 101\n",
            "Marks: 85\n",
            "Pass\n",
            "Name: sai\n",
            "Roll Number: 102\n",
            "Marks: 35\n",
            "Fail\n"
          ]
        }
      ]
    },
    {
      "cell_type": "code",
      "source": [],
      "metadata": {
        "id": "g6tY4KqTf9gP"
      },
      "execution_count": null,
      "outputs": []
    },
    {
      "cell_type": "markdown",
      "source": [],
      "metadata": {
        "id": "07ePcf4xh2u1"
      }
    },
    {
      "cell_type": "markdown",
      "source": [
        "Task Description #2:\n",
        "• Write the first two lines of a for loop to iterate through a list of numbers. Use a comment prompt to let Copilot suggest how to calculate and print the square of even numbers only"
      ],
      "metadata": {
        "id": "a_UZC8kPh_Tk"
      }
    },
    {
      "cell_type": "code",
      "source": [],
      "metadata": {
        "id": "O1guqy83iEdt"
      },
      "execution_count": null,
      "outputs": []
    },
    {
      "cell_type": "code",
      "source": [
        "#identify , a number even or odd and find square of an even number\n",
        "num =[1,3,5,2,6,12,8,9,11]\n",
        "\n",
        "print(\"even numbers\")\n",
        "for i in num:\n",
        "    if i%2==0:\n",
        "        print(i)\n",
        "\n",
        "print(\"odd numbers\")\n",
        "for i in num:\n",
        "    if i%2!=0:\n",
        "        print(i)\n",
        "\n",
        "print(\"square of even numbers\")\n",
        "for i in num:\n",
        "    if i%2==0:\n",
        "        print(i*i)"
      ],
      "metadata": {
        "colab": {
          "base_uri": "https://localhost:8080/"
        },
        "id": "V2ajflYLgbMm",
        "outputId": "53a99558-89c3-483f-9ced-e5a8215f28ac"
      },
      "execution_count": 13,
      "outputs": [
        {
          "output_type": "stream",
          "name": "stdout",
          "text": [
            "even numbers\n",
            "2\n",
            "6\n",
            "12\n",
            "8\n",
            "odd numbers\n",
            "1\n",
            "3\n",
            "5\n",
            "9\n",
            "11\n",
            "square of even numbers\n",
            "4\n",
            "36\n",
            "144\n",
            "64\n"
          ]
        }
      ]
    },
    {
      "cell_type": "markdown",
      "source": [
        "Task Description #3:\n",
        "• Create a class called BankAccount with attributes account_holder and balance. Use Copilot to complete methods for deposit(), withdraw(), and check for insufficient balance"
      ],
      "metadata": {
        "id": "Vx4Yv8g2iXmN"
      }
    },
    {
      "cell_type": "code",
      "source": [
        "class BankAccount:\n",
        "    def __init__(self, account_holder, balance=0):\n",
        "        self.account_holder = account_holder\n",
        "        self.balance = balance\n",
        "\n",
        "    def deposit(self, amount):\n",
        "        # copilot: add a deposit method that increases the balance by the amount\n",
        "        self.balance += amount\n",
        "        print(f\"Deposited {amount}. New balance: {self.balance}\")\n",
        "\n",
        "    def withdraw(self, amount):\n",
        "        # copilot: add a withdraw method that decreases the balance by the amount if sufficient funds are available\n",
        "        if self.balance >= amount:\n",
        "            self.balance -= amount\n",
        "            print(f\"Withdrew {amount}. New balance: {self.balance}\")\n",
        "        else:\n",
        "            print(\"Insufficient balance.\")\n",
        "\n",
        "    def check_balance(self):\n",
        "        # copilot: add a method to display the current balance\n",
        "        print(f\"Current balance: {self.balance}\")\n",
        "\n",
        "# Example usage:\n",
        "account1 = BankAccount(\"Alice\")\n",
        "account1.deposit(1000)\n",
        "account1.withdraw(500)\n",
        "account1.check_balance()\n",
        "account1.withdraw(600) # Attempt to overdraw\n",
        "account1.check_balance()"
      ],
      "metadata": {
        "colab": {
          "base_uri": "https://localhost:8080/"
        },
        "id": "zE454utniGRk",
        "outputId": "8254bf08-4adf-42cb-c5a9-ef6f9ec5d2ee"
      },
      "execution_count": 15,
      "outputs": [
        {
          "output_type": "stream",
          "name": "stdout",
          "text": [
            "Deposited 1000. New balance: 1000\n",
            "Withdrew 500. New balance: 500\n",
            "Current balance: 500\n",
            "Insufficient balance.\n",
            "Current balance: 500\n"
          ]
        }
      ]
    },
    {
      "cell_type": "markdown",
      "source": [
        "Task Description #4:\n",
        "• Define a list of student dictionaries with keys name and score. Ask Copilot to write a while loop to print the names of students who scored more than 75"
      ],
      "metadata": {
        "id": "kR02Mmghixnv"
      }
    },
    {
      "cell_type": "code",
      "source": [
        "students = [\n",
        "    {\"name\": \"Alice\", \"score\": 85},\n",
        "    {\"name\": \"Bob\", \"score\": 70},\n",
        "    {\"name\": \"Charlie\", \"score\": 92},\n",
        "    {\"name\": \"David\", \"score\": 65},\n",
        "    {\"name\": \"Eve\", \"score\": 78},\n",
        "]\n",
        "\n",
        "# copilot: write a while loop to print the names of students who scored more than 75\n",
        "i = 0\n",
        "while i < len(students):\n",
        "    if students[i][\"score\"] > 75:\n",
        "        print(students[i][\"name\"])\n",
        "    i += 1"
      ],
      "metadata": {
        "id": "hRHe-cKjidNv",
        "outputId": "1c3441e6-90b8-4f24-f5d5-f19af27ae92c",
        "colab": {
          "base_uri": "https://localhost:8080/"
        }
      },
      "execution_count": 16,
      "outputs": [
        {
          "output_type": "stream",
          "name": "stdout",
          "text": [
            "Alice\n",
            "Charlie\n",
            "Eve\n"
          ]
        }
      ]
    },
    {
      "cell_type": "markdown",
      "source": [
        "ask Description #5:\n",
        "• Begin writing a class ShoppingCart with an empty items list. Prompt Copilot to generate methods to add_item, remove_item, and use a loop to calculate the total bill using conditional discounts"
      ],
      "metadata": {
        "id": "a_brdLZljCbd"
      }
    },
    {
      "cell_type": "code",
      "source": [
        "class ShoppingCart:\n",
        "    def __init__(self):\n",
        "        self.items = []\n",
        "\n",
        "    def add_item(self, item, price, quantity=1):\n",
        "        # copilot: Add a method to add items to the shopping cart.\n",
        "        self.items.append({\"item\": item, \"price\": price, \"quantity\": quantity})\n",
        "        print(f\"Added {quantity} of {item} to the cart.\")\n",
        "\n",
        "    def remove_item(self, item):\n",
        "        # copilot: Add a method to remove items from the shopping cart.\n",
        "        initial_len = len(self.items)\n",
        "        self.items = [i for i in self.items if i[\"item\"] != item]\n",
        "        if len(self.items) < initial_len:\n",
        "            print(f\"Removed {item} from the cart.\")\n",
        "        else:\n",
        "            print(f\"{item} not found in the cart.\")\n",
        "\n",
        "    def calculate_total(self):\n",
        "        # copilot: Add a method to calculate the total bill with conditional discounts.\n",
        "        total = 0\n",
        "        for item in self.items:\n",
        "            item_total = item[\"price\"] * item[\"quantity\"]\n",
        "            # Apply discounts based on conditions (example: 10% off if total for an item is over $100)\n",
        "            if item_total > 100:\n",
        "                item_total *= 0.9  # 10% discount\n",
        "                print(f\"Applied 10% discount on {item['item']}\")\n",
        "            total += item_total\n",
        "        return total\n",
        "\n",
        "# Example usage:\n",
        "cart = ShoppingCart()\n",
        "cart.add_item(\"Laptop\", 1200, 1)\n",
        "cart.add_item(\"Mouse\", 25, 2)\n",
        "cart.add_item(\"Keyboard\", 75, 1)\n",
        "cart.remove_item(\"Mouse\")\n",
        "\n",
        "print(\"\\nCart items:\")\n",
        "for item in cart.items:\n",
        "    print(f\"- {item['item']}: ${item['price']} x {item['quantity']}\")\n",
        "\n",
        "total_bill = cart.calculate_total()\n",
        "print(f\"\\nTotal bill: ${total_bill:.2f}\")\n",
        "\n",
        "cart.add_item(\"Monitor\", 150, 2) # Add an item to trigger discount\n",
        "total_bill = cart.calculate_total()\n",
        "print(f\"\\nTotal bill: ${total_bill:.2f}\")"
      ],
      "metadata": {
        "id": "ETOyrsvri39F",
        "outputId": "d83f10bf-defe-4711-d24d-ac89430f91b0",
        "colab": {
          "base_uri": "https://localhost:8080/"
        }
      },
      "execution_count": 17,
      "outputs": [
        {
          "output_type": "stream",
          "name": "stdout",
          "text": [
            "Added 1 of Laptop to the cart.\n",
            "Added 2 of Mouse to the cart.\n",
            "Added 1 of Keyboard to the cart.\n",
            "Removed Mouse from the cart.\n",
            "\n",
            "Cart items:\n",
            "- Laptop: $1200 x 1\n",
            "- Keyboard: $75 x 1\n",
            "Applied 10% discount on Laptop\n",
            "\n",
            "Total bill: $1155.00\n",
            "Added 2 of Monitor to the cart.\n",
            "Applied 10% discount on Laptop\n",
            "Applied 10% discount on Monitor\n",
            "\n",
            "Total bill: $1425.00\n"
          ]
        }
      ]
    }
  ]
}