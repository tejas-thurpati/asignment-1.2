{
  "nbformat": 4,
  "nbformat_minor": 0,
  "metadata": {
    "colab": {
      "provenance": [],
      "authorship_tag": "ABX9TyO/XBnN5OPr27j24tXgrkfu",
      "include_colab_link": true
    },
    "kernelspec": {
      "name": "python3",
      "display_name": "Python 3"
    },
    "language_info": {
      "name": "python"
    }
  },
  "cells": [
    {
      "cell_type": "markdown",
      "metadata": {
        "id": "view-in-github",
        "colab_type": "text"
      },
      "source": [
        "<a href=\"https://colab.research.google.com/github/tejas-thurpati/asignment-1.2/blob/main/lab2_4.ipynb\" target=\"_parent\"><img src=\"https://colab.research.google.com/assets/colab-badge.svg\" alt=\"Open In Colab\"/></a>"
      ]
    },
    {
      "cell_type": "code",
      "execution_count": null,
      "metadata": {
        "id": "e_2BwVx5tzMX"
      },
      "outputs": [],
      "source": []
    },
    {
      "cell_type": "markdown",
      "source": [],
      "metadata": {
        "id": "ZfzNaNzFuN5a"
      }
    },
    {
      "cell_type": "markdown",
      "source": [
        "Task 1 : Python code that sorts a list in two ways: 1. Using bubble sort algorithm (manual implementation) 2. Using Python's built-in sort() method 3 Print both sorted lists for comparison\n",
        "\n",
        "prompt : create a Python code that sorts a list in two ways: 1. Using bubble sort algorithm (manual implementation) 2. Using Python's built-in sort() method 3 Print both sorted lists for comparison with examples\n",
        "\n"
      ],
      "metadata": {
        "id": "TYHz99rNukPO"
      }
    },
    {
      "cell_type": "code",
      "source": [
        "def bubble_sort(lst):\n",
        "  \"\"\"Sorts a list using the bubble sort algorithm.\"\"\"\n",
        "  n = len(lst)\n",
        "  for i in range(n):\n",
        "    # Last i elements are already in place\n",
        "    for j in range(0, n - i - 1):\n",
        "      # Traverse the list from 0 to n-i-1\n",
        "      # Swap if the element found is greater than the next element\n",
        "      if lst[j] > lst[j + 1]:\n",
        "        lst[j], lst[j + 1] = lst[j + 1], lst[j]\n",
        "  return lst\n",
        "\n",
        "# Example list\n",
        "my_list = [64, 34, 25, 12, 22, 11, 90]\n",
        "\n",
        "# 1. Sort using bubble sort\n",
        "bubble_sorted_list = bubble_sort(my_list.copy()) # Use a copy to keep the original list for the built-in sort\n",
        "\n",
        "# 2. Sort using Python's built-in sort() method\n",
        "my_list.sort() # Sorts the list in-place\n",
        "\n",
        "# 3. Print both sorted lists\n",
        "print(\"Original list:\", [64, 34, 25, 12, 22, 11, 90]) # Print original for context\n",
        "print(\"Bubble sorted list:\", bubble_sorted_list)\n",
        "print(\"Built-in sorted list:\", my_list)"
      ],
      "metadata": {
        "colab": {
          "base_uri": "https://localhost:8080/"
        },
        "id": "oOyU9i3Xul5k",
        "outputId": "554060a4-a229-422c-9db3-da422f7d16a5"
      },
      "execution_count": 1,
      "outputs": [
        {
          "output_type": "stream",
          "name": "stdout",
          "text": [
            "Original list: [64, 34, 25, 12, 22, 11, 90]\n",
            "Bubble sorted list: [11, 12, 22, 25, 34, 64, 90]\n",
            "Built-in sorted list: [11, 12, 22, 25, 34, 64, 90]\n"
          ]
        }
      ]
    },
    {
      "cell_type": "markdown",
      "source": [
        "Task 2 : Python function that takes a string and returns: - Number of vowels - Number of consonants - Number of digits Test the function with an example string and print the results\n",
        "\n",
        "prompt : create a Python function that takes a string and returns: - Number of vowels - Number of consonants - Number of digits Test the function with an example string and print the results examples"
      ],
      "metadata": {
        "id": "3zl4bRp9vkEu"
      }
    },
    {
      "cell_type": "code",
      "source": [
        "def analyze_string(input_string):\n",
        "  \"\"\"\n",
        "  Analyzes a string to count vowels, consonants, and digits.\n",
        "\n",
        "  Args:\n",
        "    input_string: The string to analyze.\n",
        "\n",
        "  Returns:\n",
        "    A tuple containing the counts of vowels, consonants, and digits.\n",
        "  \"\"\"\n",
        "  vowels = \"aeiouAEIOU\"\n",
        "  consonants = \"bcdfghjklmnpqrstvwxyzBCDFGHJKLMNPQRSTVWXYZ\"\n",
        "  digits = \"0123456789\"\n",
        "\n",
        "  vowel_count = 0\n",
        "  consonant_count = 0\n",
        "  digit_count = 0\n",
        "\n",
        "  for char in input_string:\n",
        "    if char in vowels:\n",
        "      vowel_count += 1\n",
        "    elif char in consonants:\n",
        "      consonant_count += 1\n",
        "    elif char in digits:\n",
        "      digit_count += 1\n",
        "\n",
        "  return vowel_count, consonant_count, digit_count\n",
        "\n",
        "# Test the function with an example string\n",
        "example_string = \"Hello World 123!\"\n",
        "vowels, consonants, digits = analyze_string(example_string)\n",
        "\n",
        "print(f\"Analyzing the string: '{example_string}'\")\n",
        "print(f\"Number of vowels: {vowels}\")\n",
        "print(f\"Number of consonants: {consonants}\")\n",
        "print(f\"Number of digits: {digits}\")"
      ],
      "metadata": {
        "colab": {
          "base_uri": "https://localhost:8080/"
        },
        "id": "rd7F21zNvp18",
        "outputId": "dbbeecc3-5096-499a-c26e-ddf184b8ae5a"
      },
      "execution_count": 2,
      "outputs": [
        {
          "output_type": "stream",
          "name": "stdout",
          "text": [
            "Analyzing the string: 'Hello World 123!'\n",
            "Number of vowels: 3\n",
            "Number of consonants: 7\n",
            "Number of digits: 3\n"
          ]
        }
      ]
    },
    {
      "cell_type": "markdown",
      "source": [
        "Task 3 : Python code to:\n",
        "\n",
        "Create a text file\n",
        "Write some sample text into it\n",
        "Read the text from the file and display it\n",
        "Prompt : Write Python code to:\n",
        "\n",
        "Create a text file\n",
        "Write some sample text into it\n",
        "Read the text from the file and display it with examples"
      ],
      "metadata": {
        "id": "jH8rGDtnwG4E"
      }
    },
    {
      "cell_type": "code",
      "source": [
        "# Define the filename\n",
        "file_name = \"sample_text_file.txt\"\n",
        "\n",
        "# 1. Create a text file and write some sample text into it\n",
        "try:\n",
        "  with open(file_name, \"w\") as file:\n",
        "    file.write(\"This is some sample text.\\n\")\n",
        "    file.write(\"This is the second line.\\n\")\n",
        "    file.write(\"And this is the third line.\")\n",
        "  print(f\"Successfully created and wrote to '{file_name}'\")\n",
        "\n",
        "  # 2. Read the text from the file and display it\n",
        "  with open(file_name, \"r\") as file:\n",
        "    file_content = file.read()\n",
        "  print(f\"\\nContent of '{file_name}':\")\n",
        "  print(file_content)\n",
        "\n",
        "except IOError as e:\n",
        "  print(f\"An error occurred: {e}\")"
      ],
      "metadata": {
        "colab": {
          "base_uri": "https://localhost:8080/"
        },
        "id": "DM6j9eiswNdj",
        "outputId": "4101a61f-0267-49a6-ee47-e7413f3609e1"
      },
      "execution_count": 3,
      "outputs": [
        {
          "output_type": "stream",
          "name": "stdout",
          "text": [
            "Successfully created and wrote to 'sample_text_file.txt'\n",
            "\n",
            "Content of 'sample_text_file.txt':\n",
            "This is some sample text.\n",
            "This is the second line.\n",
            "And this is the third line.\n"
          ]
        }
      ]
    },
    {
      "cell_type": "markdown",
      "source": [
        "Task 4 : Python program for a simple calculator using functions: -add, subtract, multiply, divide -Ask the user to select an operation and enter two numbers -Perform the calculation and print the result.\n",
        "\n",
        "prompt : Write a Python program for a simple calculator using functions: -add, subtract, multiply, divide -Ask the user to select an operation and enter two -numbers -Perform the calculation and print the result with examples"
      ],
      "metadata": {
        "id": "bnCXF9piwZX7"
      }
    },
    {
      "cell_type": "code",
      "source": [
        "def add(x, y):\n",
        "  \"\"\"Adds two numbers.\"\"\"\n",
        "  return x + y\n",
        "\n",
        "def subtract(x, y):\n",
        "  \"\"\"Subtracts two numbers.\"\"\"\n",
        "  return x - y\n",
        "\n",
        "def multiply(x, y):\n",
        "  \"\"\"Multiplies two numbers.\"\"\"\n",
        "  return x * y\n",
        "\n",
        "def divide(x, y):\n",
        "  \"\"\"Divides two numbers.\"\"\"\n",
        "  if y == 0:\n",
        "    return \"Error! Division by zero.\"\n",
        "  else:\n",
        "    return x / y\n",
        "\n",
        "print(\"Select operation:\")\n",
        "print(\"1.Add\")\n",
        "print(\"2.Subtract\")\n",
        "print(\"3.Multiply\")\n",
        "print(\"4.Divide\")\n",
        "\n",
        "while True:\n",
        "  # Take input from the user\n",
        "  choice = input(\"Enter choice(1/2/3/4): \")\n",
        "\n",
        "  # Check if choice is one of the four options\n",
        "  if choice in ('1', '2', '3', '4'):\n",
        "    try:\n",
        "      num1 = float(input(\"Enter first number: \"))\n",
        "      num2 = float(input(\"Enter second number: \"))\n",
        "    except ValueError:\n",
        "      print(\"Invalid input. Please enter numbers.\")\n",
        "      continue\n",
        "\n",
        "    if choice == '1':\n",
        "      print(num1, \"+\", num2, \"=\", add(num1, num2))\n",
        "\n",
        "    elif choice == '2':\n",
        "      print(num1, \"-\", num2, \"=\", subtract(num1, num2))\n",
        "\n",
        "    elif choice == '3':\n",
        "      print(num1, \"*\", num2, \"=\", multiply(num1, num2))\n",
        "\n",
        "    elif choice == '4':\n",
        "      print(num1, \"/\", num2, \"=\", divide(num1, num2))\n",
        "    break\n",
        "  else:\n",
        "    print(\"Invalid Input\")"
      ],
      "metadata": {
        "colab": {
          "base_uri": "https://localhost:8080/"
        },
        "id": "ZjbTJsQSwbQ4",
        "outputId": "ea4a18d9-f1ba-4229-9e17-f51fa1dab9bb"
      },
      "execution_count": 4,
      "outputs": [
        {
          "output_type": "stream",
          "name": "stdout",
          "text": [
            "Select operation:\n",
            "1.Add\n",
            "2.Subtract\n",
            "3.Multiply\n",
            "4.Divide\n",
            "Enter choice(1/2/3/4): 8\n",
            "Invalid Input\n",
            "Enter choice(1/2/3/4): 6\n",
            "Invalid Input\n",
            "Enter choice(1/2/3/4): 4\n",
            "Enter first number: 3\n",
            "Enter second number: 6\n",
            "3.0 / 6.0 = 0.5\n"
          ]
        }
      ]
    },
    {
      "cell_type": "markdown",
      "source": [
        "Task 5 : Python program that checks if a given year is a leap year.\n",
        "\n",
        "prompt : create a Python program that checks if a given year is a leap year with examples"
      ],
      "metadata": {
        "id": "BK4pqfdYwszP"
      }
    },
    {
      "cell_type": "code",
      "source": [
        "def is_leap_year(year):\n",
        "  \"\"\"\n",
        "  Checks if a given year is a leap year.\n",
        "\n",
        "  Args:\n",
        "    year: The year to check (integer).\n",
        "\n",
        "  Returns:\n",
        "    True if the year is a leap year, False otherwise.\n",
        "  \"\"\"\n",
        "  # A leap year is divisible by 4, except for years divisible by 100\n",
        "  # that are not also divisible by 400.\n",
        "  return (year % 4 == 0 and year % 100 != 0) or (year % 400 == 0)\n",
        "\n",
        "# Example usage:\n",
        "year1 = 2000\n",
        "year2 = 1900\n",
        "year3 = 2024\n",
        "year4 = 2023\n",
        "\n",
        "print(f\"{year1} is a leap year: {is_leap_year(year1)}\")\n",
        "print(f\"{year2} is a leap year: {is_leap_year(year2)}\")\n",
        "print(f\"{year3} is a leap year: {is_leap_year(year3)}\")\n",
        "print(f\"{year4} is a leap year: {is_leap_year(year4)}\")\n",
        "\n",
        "# You can also take user input\n",
        "try:\n",
        "  user_year = int(input(\"Enter a year to check: \"))\n",
        "  print(f\"{user_year} is a leap year: {is_leap_year(user_year)}\")\n",
        "except ValueError:\n",
        "  print(\"Invalid input. Please enter a valid year.\")\n",
        ""
      ],
      "metadata": {
        "colab": {
          "base_uri": "https://localhost:8080/"
        },
        "id": "sLSU43Kgwui3",
        "outputId": "24f49f52-ee42-488f-e7c9-c491c3573c4d"
      },
      "execution_count": 6,
      "outputs": [
        {
          "output_type": "stream",
          "name": "stdout",
          "text": [
            "2000 is a leap year: True\n",
            "1900 is a leap year: False\n",
            "2024 is a leap year: True\n",
            "2023 is a leap year: False\n",
            "Enter a year to check: 2007\n",
            "2007 is a leap year: False\n"
          ]
        }
      ]
    }
  ]
}