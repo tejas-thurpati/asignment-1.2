{
  "nbformat": 4,
  "nbformat_minor": 0,
  "metadata": {
    "colab": {
      "provenance": [],
      "authorship_tag": "ABX9TyOFJAIgaoRTNhQD2H2kQ74u",
      "include_colab_link": true
    },
    "kernelspec": {
      "name": "python3",
      "display_name": "Python 3"
    },
    "language_info": {
      "name": "python"
    }
  },
  "cells": [
    {
      "cell_type": "markdown",
      "metadata": {
        "id": "view-in-github",
        "colab_type": "text"
      },
      "source": [
        "<a href=\"https://colab.research.google.com/github/tejas-thurpati/asignment-1.2/blob/main/lab_2_4.ipynb\" target=\"_parent\"><img src=\"https://colab.research.google.com/assets/colab-badge.svg\" alt=\"Open In Colab\"/></a>"
      ]
    },
    {
      "cell_type": "code",
      "execution_count": null,
      "metadata": {
        "id": "h1WybIOmNysz"
      },
      "outputs": [],
      "source": [
        "wirte a python function to verify"
      ]
    },
    {
      "cell_type": "markdown",
      "source": [
        "write python function to verify the number is even or odd\n",
        "prompt: genarate python funcyion to check odd or even number"
      ],
      "metadata": {
        "id": "u8hvc97iPjJm"
      }
    },
    {
      "cell_type": "code",
      "source": [
        "def is_even_or_odd(number):\n",
        "  \"\"\"\n",
        "  Checks if a number is even or odd.\n",
        "\n",
        "  Args:\n",
        "    number: The number to check.\n",
        "\n",
        "  Returns:\n",
        "    A string indicating whether the number is \"Even\" or \"Odd\".\n",
        "  \"\"\"\n",
        "  if number % 2 == 0:\n",
        "    return \"Even\"\n",
        "  else:\n",
        "    return \"Odd\"\n",
        "\n",
        "# Example usage\n",
        "num = 10\n",
        "result = is_even_or_odd(num)\n",
        "print(f\"The number {num} is {result}\")\n",
        "\n",
        "num = 7\n",
        "result = is_even_or_odd(num)\n",
        "print(f\"The number {num} is {result}\")"
      ],
      "metadata": {
        "colab": {
          "base_uri": "https://localhost:8080/"
        },
        "id": "nZH1bBmFQIDG",
        "outputId": "85e93a3e-7894-482c-9211-e5edcafa05a0"
      },
      "execution_count": 2,
      "outputs": [
        {
          "output_type": "stream",
          "name": "stdout",
          "text": [
            "The number 10 is Even\n",
            "The number 7 is Odd\n"
          ]
        }
      ]
    },
    {
      "cell_type": "markdown",
      "source": [
        "Write Python code that sorts a list in two ways:\n",
        "# 1. Using bubble sort algorithm (manual implementation)\n",
        "# 2. Using Python's built-in sort() method\n",
        "# Print both sorted lists for comparison\n",
        "promot:Using bubble sort algorithm (manual implementation)"
      ],
      "metadata": {
        "id": "Bn_QeFrLT_xW"
      }
    },
    {
      "cell_type": "markdown",
      "source": [],
      "metadata": {
        "id": "uaS6Q4eOUT3N"
      }
    },
    {
      "cell_type": "markdown",
      "source": [
        "if number % 2 == 0:\n",
        "    return \"Even\"\n",
        "  else:\n",
        "    return \"Odd\"\n"
      ],
      "metadata": {
        "id": "JdPsfT1oQrtH"
      }
    },
    {
      "cell_type": "code",
      "metadata": {
        "colab": {
          "base_uri": "https://localhost:8080/"
        },
        "id": "0eaf95bc",
        "outputId": "c3099e20-039d-4079-e2d1-fc4d4c4681b8"
      },
      "source": [
        "def bubble_sort(arr):\n",
        "  \"\"\"\n",
        "  Sorts a list using the bubble sort algorithm.\n",
        "\n",
        "  Args:\n",
        "    arr: The list to sort.\n",
        "\n",
        "  Returns:\n",
        "    The sorted list.\n",
        "  \"\"\"\n",
        "   n= len(arr)\n",
        "  # Traverse through all array elements\n",
        "  for i in range(n):\n",
        "    # Last i elements are already in place\n",
        "    for j in range(0, n - i - 1):\n",
        "      # traverse the array from 0 to n-i-1\n",
        "      # Swap if the element found is greater than the next element\n",
        "      if arr[j] > arr[j + 1]:\n",
        "        arr[j], arr[j + 1] = arr[j + 1], arr[j]\n",
        "  return arr\n",
        "\n",
        "# Example usage\n",
        "my_list = [64, 34, 25, 12, 22, 11, 90]\n",
        "sorted_list = bubble_sort(my_list.copy()) # Use a copy to keep the original list\n",
        "print(\"Sorted list using bubble sort:\", sorted_list)"
      ],
      "execution_count": 3,
      "outputs": [
        {
          "output_type": "stream",
          "name": "stdout",
          "text": [
            "Sorted list using bubble sort: [11, 12, 22, 25, 34, 64, 90]\n"
          ]
        }
      ]
    },
    {
      "cell_type": "markdown",
      "source": [
        " n = len(arr)\n",
        "  # Traverse through all array elements\n",
        "  for i in range(n):\n",
        "    # Last i elements are already in place\n",
        "    for j in range(0, n - i - 1):\n",
        "      # traverse the array from 0 to n-i-1\n",
        "      # Swap if the element found is greater than the next element\n",
        "      if arr[j] > arr[j + 1]:\n",
        "        arr[j], arr[j + 1] = arr[j + 1], arr[j]\n",
        "  return arr\n",
        "\n",
        "  n = len(arr): This gets the length of the input list arr.\n",
        "for i in range(n): This is the outer loop. It iterates n times. In each iteration, the largest unsorted element \"bubbles up\" to its correct position at the end of the unsorted portion of the list.\n",
        "for j in range(0, n - i - 1): This is the inner loop. It iterates through the unsorted portion of the list. The range n - i - 1 shrinks with each outer loop iteration because the last i elements are already sorted.\n",
        "if arr[j] > arr[j + 1]:: This checks if the current element is greater than the next element.\n",
        "arr[j], arr[j + 1] = arr[j + 1], arr[j]: If the current element is greater than the next, these two lines swap their positions.\n",
        "return arr: After the loops complete, the function returns the sorted list.\n"
      ],
      "metadata": {
        "id": "18JpkBMJXR6G"
      }
    }
  ]
}