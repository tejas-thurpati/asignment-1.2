{
  "nbformat": 4,
  "nbformat_minor": 0,
  "metadata": {
    "colab": {
      "provenance": [],
      "authorship_tag": "ABX9TyOxAXmosRImDKBVq/1ocMea",
      "include_colab_link": true
    },
    "kernelspec": {
      "name": "python3",
      "display_name": "Python 3"
    },
    "language_info": {
      "name": "python"
    }
  },
  "cells": [
    {
      "cell_type": "markdown",
      "metadata": {
        "id": "view-in-github",
        "colab_type": "text"
      },
      "source": [
        "<a href=\"https://colab.research.google.com/github/tejas-thurpati/asignment-1.2/blob/main/lab_2_4.ipynb\" target=\"_parent\"><img src=\"https://colab.research.google.com/assets/colab-badge.svg\" alt=\"Open In Colab\"/></a>"
      ]
    },
    {
      "cell_type": "code",
      "execution_count": null,
      "metadata": {
        "id": "h1WybIOmNysz"
      },
      "outputs": [],
      "source": [
        "wirte a python function to verify"
      ]
    },
    {
      "cell_type": "markdown",
      "source": [
        "write python function to verify the number is even or odd\n",
        "prompt: genarate python funcyion to check odd or even number"
      ],
      "metadata": {
        "id": "u8hvc97iPjJm"
      }
    },
    {
      "cell_type": "code",
      "source": [
        "def is_even_or_odd(number):\n",
        "  \"\"\"\n",
        "  Checks if a number is even or odd.\n",
        "\n",
        "  Args:\n",
        "    number: The number to check.\n",
        "\n",
        "  Returns:\n",
        "    A string indicating whether the number is \"Even\" or \"Odd\".\n",
        "  \"\"\"\n",
        "  if number % 2 == 0:\n",
        "    return \"Even\"\n",
        "  else:\n",
        "    return \"Odd\"\n",
        "\n",
        "# Example usage\n",
        "num = 10\n",
        "result = is_even_or_odd(num)\n",
        "print(f\"The number {num} is {result}\")\n",
        "\n",
        "num = 7\n",
        "result = is_even_or_odd(num)\n",
        "print(f\"The number {num} is {result}\")"
      ],
      "metadata": {
        "colab": {
          "base_uri": "https://localhost:8080/"
        },
        "id": "nZH1bBmFQIDG",
        "outputId": "c62f413e-15de-4826-880c-790e89ff3946"
      },
      "execution_count": 1,
      "outputs": [
        {
          "output_type": "stream",
          "name": "stdout",
          "text": [
            "The number 10 is Even\n",
            "The number 7 is Odd\n"
          ]
        }
      ]
    },
    {
      "cell_type": "markdown",
      "source": [
        "if number % 2 == 0:\n",
        "    return \"Even\"\n",
        "  else:\n",
        "    return \"Odd\"\n"
      ],
      "metadata": {
        "id": "JdPsfT1oQrtH"
      }
    }
  ]
}